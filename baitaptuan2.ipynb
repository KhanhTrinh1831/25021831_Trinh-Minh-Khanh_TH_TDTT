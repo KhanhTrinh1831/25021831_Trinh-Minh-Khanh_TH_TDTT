{
 "cells": [
  {
   "cell_type": "code",
   "execution_count": 7,
   "id": "fb083c3c",
   "metadata": {},
   "outputs": [
    {
     "name": "stdout",
     "output_type": "stream",
     "text": [
      "10\n"
     ]
    }
   ],
   "source": [
    "#BT1: nhap so gap doi n\n",
    "n = int(input())\n",
    "print(n*2)"
   ]
  },
  {
   "cell_type": "code",
   "execution_count": 13,
   "id": "c6720565",
   "metadata": {},
   "outputs": [
    {
     "name": "stdout",
     "output_type": "stream",
     "text": [
      "Dien tich trong cay la :  1.21\n"
     ]
    }
   ],
   "source": [
    "#BT2: Tinh dien tich trong cay\n",
    "import math\n",
    "pi  = 3.14\n",
    "a,b = map(int,input(\"Nhap lan luot vao chieu rong, chieu dai:\").split())\n",
    "\n",
    "dien_tich_khu_dat = a * b\n",
    "ban_kinh = a / 2\n",
    "dien_tich_hinh_tron = pi * (math.pow(ban_kinh,2))\n",
    "dien_tich_trong_cay = dien_tich_khu_dat - dien_tich_hinh_tron \n",
    "print(\"Dien tich trong cay la : \",round(dien_tich_trong_cay,2))"
   ]
  },
  {
   "cell_type": "code",
   "execution_count": 14,
   "id": "ff9f8419",
   "metadata": {},
   "outputs": [
    {
     "name": "stdout",
     "output_type": "stream",
     "text": [
      "Dang chu hoa cua chu cai la : D\n"
     ]
    }
   ],
   "source": [
    "#BT3 : In chu cai hoa thuong\n",
    "chu_cai = input()\n",
    "\n",
    "#Dung cau dieu kien de kiem tra\n",
    "if ord(chu_cai) >= 65 and ord(chu_cai) <= 90 :\n",
    "    print(f\"Dang chu thuong cua chu cai la : {chr(ord(chu_cai)+32)}\")\n",
    "elif ord(chu_cai) >= 97 and ord(chu_cai) <= 122 :\n",
    "    print(f\"Dang chu hoa cua chu cai la : {chr(ord(chu_cai) - 32)}\")\n",
    "else : \n",
    "    print(\"Hay nhap mot chu cai dang in hoa hoac in thuong\")"
   ]
  },
  {
   "cell_type": "code",
   "execution_count": 15,
   "id": "5722df98",
   "metadata": {},
   "outputs": [
    {
     "name": "stdout",
     "output_type": "stream",
     "text": [
      "g la ki tu alphabet\n"
     ]
    }
   ],
   "source": [
    "#BT4 : Kiem tra ki tu thuoc alphabet\n",
    "c = input()\n",
    "if \"a\" <= c <= \"z\" :\n",
    "    print(f\"{c} la ki tu alphabet\")\n",
    "elif \"A\" <= c <= \"Z\" :\n",
    "    print(f\"{c} la ki tu alphabet\")\n",
    "else :\n",
    "    print(f\"{c} khong phai la ki tu alphabet\")\n"
   ]
  },
  {
   "cell_type": "code",
   "execution_count": null,
   "id": "945858a2",
   "metadata": {},
   "outputs": [
    {
     "name": "stdout",
     "output_type": "stream",
     "text": [
      "c\n"
     ]
    }
   ],
   "source": [
    "#BT5 : in ra chu cai lien truoc\n",
    "c = input()\n",
    "if len(c) == 1 and 65 < ord(c) <= 90 :\n",
    "    if c == 'A' :\n",
    "        print(\"z\") # truong hop dac biet\n",
    "    else :\n",
    "        print(chr(ord(c) + 31 ))\n",
    "else :\n",
    "    print(\"Hay nhap chu cai in hoa\")"
   ]
  },
  {
   "cell_type": "code",
   "execution_count": 32,
   "id": "1d4fb499",
   "metadata": {},
   "outputs": [
    {
     "name": "stdout",
     "output_type": "stream",
     "text": [
      "Dien tich tam giac la : 24.0\n"
     ]
    }
   ],
   "source": [
    "#BT6 : Tam giac\n",
    "#Nhap vao gia tri 3 canh cua tam giac\n",
    "import math\n",
    "a,b,c = map(float,input(\"Nhap 3 canh cua tam giac :\").split())\n",
    "\n",
    "#Kiem tra xem 3 canh vua nhap co thoa man la 1 tam giac hay khong\n",
    "if (a+b) > c and (a+c) > b and (b+c) > a :\n",
    "    nua_chu_vi = (a + b + c) / 2\n",
    "    dien_tich = math.sqrt(nua_chu_vi * (nua_chu_vi - a) * (nua_chu_vi - b) * (nua_chu_vi - c))\n",
    "    print(f\"Dien tich tam giac la : {dien_tich:.1f}\")\n",
    "else :\n",
    "    print(\"Khong phai 3 canh cua tam giac\")\n"
   ]
  },
  {
   "cell_type": "code",
   "execution_count": 34,
   "id": "82d20094",
   "metadata": {},
   "outputs": [
    {
     "name": "stdout",
     "output_type": "stream",
     "text": [
      "5 9\n"
     ]
    }
   ],
   "source": [
    "#BT7 : in ra ki thu thu n\n",
    "chuoi = input(\"Nhap vao mot chuoi ki tu :\")\n",
    "if len(chuoi) >= 20 :\n",
    "    print(chuoi[4] , chuoi[8])\n",
    "else :\n",
    "    print(\"Hay nhap chuoi co do dai phu hop\")"
   ]
  },
  {
   "cell_type": "code",
   "execution_count": 38,
   "id": "2de9a8c8",
   "metadata": {},
   "outputs": [
    {
     "name": "stdout",
     "output_type": "stream",
     "text": [
      "\n",
      "Chủ hộ: Trihn Miih Khanh\n",
      "Số điện tiêu thụ: 50.0 kWh\n",
      "Tiền điện tháng này: 107136 đồng\n"
     ]
    }
   ],
   "source": [
    "# Bài 8: Tính tiền điện theo bậc thang\n",
    "\n",
    "# Nhập dữ liệu\n",
    "ten = input(\"Nhập tên chủ hộ: \")\n",
    "chi_so_cu = float(input(\"Nhập chỉ số điện tháng trước: \"))\n",
    "chi_so_moi = float(input(\"Nhập chỉ số điện tháng này: \"))\n",
    "\n",
    "# Tính số điện tiêu thụ\n",
    "so_dien = chi_so_moi - chi_so_cu\n",
    "\n",
    "# Kiểm tra hợp lệ\n",
    "if so_dien < 0:\n",
    "    print(\"Lỗi: Chỉ số tháng này phải lớn hơn hoặc bằng tháng trước.\")\n",
    "else:\n",
    "    # Tính tiền theo bậc\n",
    "    tien = 0\n",
    "    if so_dien <= 50:\n",
    "        tien = so_dien * 1984 \n",
    "        \n",
    "    elif so_dien <= 100:\n",
    "        tien = 50 * 1984 + (so_dien - 50) * 2050\n",
    "     \n",
    "    elif so_dien <= 200:\n",
    "        tien = 50 * 1984 + 50 * 2050 + (so_dien - 100) * 2380\n",
    "    \n",
    "    elif so_dien <= 300:\n",
    "        tien = 50 * 1984 + 50 * 2050 + 100 * 2380 + (so_dien - 200) * 2998\n",
    "    \n",
    "    elif so_dien <= 400:\n",
    "        tien = 50 * 1984 + 50 * 2050 + 100 * 2380 + 100 * 2998 + (so_dien - 300) * 3350\n",
    "    \n",
    "    else:\n",
    "        tien = (50 * 1984 + 50 * 2050 + 100 * 2380 +\n",
    "                100 * 2998 + 100 * 3350 + (so_dien - 400) * 3460)\n",
    "       \n",
    "\n",
    "    # In kết quả\n",
    "    print(f\"\\nChủ hộ: {ten}\")\n",
    "    print(f\"Số điện tiêu thụ: {so_dien} kWh\")\n",
    "    print(f\"Tiền điện tháng này: {tien * 1.08:.0f} đồng\")\n",
    "\n",
    "     \n",
    "\n",
    "\n",
    "        \n",
    "\n",
    "\n",
    "\n"
   ]
  },
  {
   "cell_type": "code",
   "execution_count": 42,
   "id": "c8f40179",
   "metadata": {},
   "outputs": [
    {
     "name": "stdout",
     "output_type": "stream",
     "text": [
      "So nhap vao la so le\n"
     ]
    }
   ],
   "source": [
    "#1.Kiem tra so chan le\n",
    "a = int(input())\n",
    "\n",
    "if a%2 == 0 :\n",
    "    print(\"So nhap vao la so chan :\")\n",
    "else :\n",
    "    print(\"So nhap vao la so le\")\n",
    "    "
   ]
  },
  {
   "cell_type": "code",
   "execution_count": 45,
   "id": "a5fb3ba5",
   "metadata": {},
   "outputs": [
    {
     "name": "stdout",
     "output_type": "stream",
     "text": [
      "False\n"
     ]
    }
   ],
   "source": [
    "#2. Kiem tra so tan cung co chu so 5 hay khong\n",
    "a = int(input())\n",
    "if a%5 == 0 and a%2 != 0 :\n",
    "    print(\"True\")\n",
    "else :\n",
    "    print(\"False\")\n",
    "    "
   ]
  },
  {
   "cell_type": "code",
   "execution_count": 47,
   "id": "2d4356ea",
   "metadata": {},
   "outputs": [
    {
     "name": "stdout",
     "output_type": "stream",
     "text": [
      "False\n"
     ]
    }
   ],
   "source": [
    "#3.Kiem tra so co chia het cho 3 va 5 hay khong\n",
    "a = int(input())\n",
    "if a%3 == 0 and a%5 == 0 :\n",
    "    print(\"True\")\n",
    "else :\n",
    "    print(\"False\")"
   ]
  },
  {
   "cell_type": "code",
   "execution_count": 52,
   "id": "32890bc2",
   "metadata": {},
   "outputs": [
    {
     "name": "stdout",
     "output_type": "stream",
     "text": [
      "Vui long nhap nam sinh hop le\n"
     ]
    }
   ],
   "source": [
    "#4.Kiem tra tuoi nguoi tham gia bau cu\n",
    "a = int(input(\"Nhap nam sinh :\"))\n",
    "if a < 2025 :\n",
    "    age = (2025 - a)\n",
    "    print(f\"Tuoi cua nguoi nay la {age} tuoi\")\n",
    "    if age >= 18 :\n",
    "        print(\"Nguoi nay du tuoi tham gia bau cu\")\n",
    "    else: \n",
    "        print(\"Nguoi nay chua du tuoi tham gia bau cu\")\n",
    "else :\n",
    "    print(\"Vui long nhap nam sinh hop le\")"
   ]
  },
  {
   "cell_type": "code",
   "execution_count": 56,
   "id": "9e35b133",
   "metadata": {},
   "outputs": [
    {
     "name": "stdout",
     "output_type": "stream",
     "text": [
      "So lon hon la b = 3.0\n"
     ]
    }
   ],
   "source": [
    "#5.So sanh 2 so\n",
    "a,b = map(float,input(\"Nhap vao 2 so lan luot la a va b :\").split())\n",
    "if a > b :\n",
    "    print(\"So lon hon la a =\", a)\n",
    "elif a == b :\n",
    "    print(\"Hai so bang nhau\")\n",
    "else:\n",
    "    print(\"So lon hon la b =\",b)"
   ]
  },
  {
   "cell_type": "code",
   "execution_count": null,
   "id": "5d07bb6b",
   "metadata": {},
   "outputs": [
    {
     "name": "stdout",
     "output_type": "stream",
     "text": [
      "3 la chu so\n"
     ]
    }
   ],
   "source": [
    "#6.Kiem tra ki tu\n",
    "a = input()\n",
    "if len(a) == 1 :\n",
    "    if a.isalpha():\n",
    "        print(f\"{a} la chu cai\")\n",
    "    elif a.isdigit() :\n",
    "        print(f\"{a} la chu so\")\n",
    "    else :\n",
    "        print(\"Day khong phai la chu cai cung khong phai la chu so\")   \n",
    "else :\n",
    "    print(\"Hay nhap duy nhat mot ki tu\")\n",
    "\n"
   ]
  },
  {
   "cell_type": "code",
   "execution_count": 68,
   "id": "484435f3",
   "metadata": {},
   "outputs": [
    {
     "name": "stdout",
     "output_type": "stream",
     "text": [
      "Hay nhap dung so diem co trong thang xet\n"
     ]
    }
   ],
   "source": [
    "#7.Phan loai hoc tap\n",
    "score = float(input())\n",
    "xep_loai = [\"Gioi\",\"Kha\",\"Trung Binh\", \"Yeu\"]\n",
    "if  0 <= score <= 10 :\n",
    "    if score >= 8 :\n",
    "        print(xep_loai[0])\n",
    "    elif  6.5 <= score < 8 :\n",
    "        print(xep_loai[1])\n",
    "    elif 5 <= score < 6.5 :\n",
    "        print(xep_loai[2])\n",
    "    else :\n",
    "        print(xep_loai[3])\n",
    "else :\n",
    "    print(\"Hay nhap dung so diem co trong thang xet\")        "
   ]
  },
  {
   "cell_type": "code",
   "execution_count": 74,
   "id": "f850b22c",
   "metadata": {},
   "outputs": [
    {
     "name": "stdout",
     "output_type": "stream",
     "text": [
      "2020 la nam nhuan\n"
     ]
    }
   ],
   "source": [
    "#8. Kiem tra nam nhuan\n",
    "year = int(input(\"Nhap vap nam :\"))\n",
    "if year%400 == 0 or (year%4 == 0 and year%100 != 0) :\n",
    "    print(f\"{year} la nam nhuan\")\n",
    "else :\n",
    "    print(f\"{year} khong la nam nhuan\")    "
   ]
  },
  {
   "cell_type": "code",
   "execution_count": null,
   "id": "18ce535f",
   "metadata": {},
   "outputs": [
    {
     "name": "stdout",
     "output_type": "stream",
     "text": [
      "Sáu\n"
     ]
    }
   ],
   "source": [
    "#9. Chuyen doi so sang dang chu\n",
    "so = int(input(\"Nhap vap mot so nguyen:\"))\n",
    "match so :\n",
    "    case 0 :\n",
    "        print(\"Không\")\n",
    "    case 1 :\n",
    "        print(\"Một\")\n",
    "    case 2 :\n",
    "        print(\"Hai\")\n",
    "    case 3 :\n",
    "        print(\"Ba\")\n",
    "    case 4 :\n",
    "        print(\"Bốn\")\n",
    "    case 5 :\n",
    "        print(\"Năm\")\n",
    "    case 6 :\n",
    "        print(\"Sáu\")\n",
    "    case 7 :\n",
    "        print(\"Bảy\")\n",
    "    case 8 :\n",
    "        print(\"Tám\")\n",
    "    case 9 :\n",
    "        print(\"Chín\")                                    "
   ]
  },
  {
   "cell_type": "code",
   "execution_count": 81,
   "id": "02842348",
   "metadata": {},
   "outputs": [
    {
     "name": "stdout",
     "output_type": "stream",
     "text": [
      "Hoc lai\n"
     ]
    }
   ],
   "source": [
    "#10.Kiem tra xem co qua mon hay phai hoc lai\n",
    "diem_thi = float(input(\"Nhap diem thi :\"))\n",
    "if diem_thi >= 4 : print(\"Qua mon\")\n",
    "else : print(\"Hoc lai\")\n"
   ]
  },
  {
   "cell_type": "code",
   "execution_count": 90,
   "id": "f84ea8a5",
   "metadata": {},
   "outputs": [
    {
     "name": "stdout",
     "output_type": "stream",
     "text": [
      "Tuoi cua nguoi nay la 24 tuoi\n",
      "Nguoi nay du 18 tuoi \n"
     ]
    }
   ],
   "source": [
    "#11. Kiem tra nguoi co du 18 tuoi hay chua \n",
    "nam_hien_tai = 2025\n",
    "a = int(input(\"Nhap nam sinh :\"))\n",
    "if a < nam_hien_tai :\n",
    "    age = (nam_hien_tai - a)\n",
    "    print(f\"Tuoi cua nguoi nay la {age} tuoi\")\n",
    "    if age >= 18 :\n",
    "        print(\"Nguoi nay du 18 tuoi \")\n",
    "    else: \n",
    "        print((\"Nguoi nay chua du 18 tuoi \"))\n",
    "else :\n",
    "    print(\"Vui long nhap nam sinh hop le\")\n"
   ]
  }
 ],
 "metadata": {
  "kernelspec": {
   "display_name": "Python 3",
   "language": "python",
   "name": "python3"
  },
  "language_info": {
   "codemirror_mode": {
    "name": "ipython",
    "version": 3
   },
   "file_extension": ".py",
   "mimetype": "text/x-python",
   "name": "python",
   "nbconvert_exporter": "python",
   "pygments_lexer": "ipython3",
   "version": "3.13.7"
  }
 },
 "nbformat": 4,
 "nbformat_minor": 5
}
