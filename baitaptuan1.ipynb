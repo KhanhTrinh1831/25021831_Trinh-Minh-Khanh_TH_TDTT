{
 "cells": [
  {
   "cell_type": "code",
   "execution_count": 13,
   "id": "00c5ae12",
   "metadata": {},
   "outputs": [
    {
     "name": "stdout",
     "output_type": "stream",
     "text": [
      "Hello World!\n"
     ]
    }
   ],
   "source": [
    "#W2A1:\n",
    "print(\"Hello World!\")"
   ]
  },
  {
   "cell_type": "code",
   "execution_count": 14,
   "id": "d1c3bb5f",
   "metadata": {},
   "outputs": [
    {
     "name": "stdout",
     "output_type": "stream",
     "text": [
      "Xin chao ttt!\n",
      "Chao ngay moi ttt\n"
     ]
    }
   ],
   "source": [
    "#W2A2:\n",
    "#Dau vao ten nguoi\n",
    "ten = input(\"Nhap vao ten cua ban : \")\n",
    "#In ra loi chao\n",
    "print(\"Xin chao \" + ten + \"!\")\n",
    "print(\"Chao ngay moi \" + ten)"
   ]
  },
  {
   "cell_type": "code",
   "execution_count": 15,
   "id": "310f2286",
   "metadata": {},
   "outputs": [
    {
     "ename": "ValueError",
     "evalue": "invalid literal for int() with base 10: 'a'",
     "output_type": "error",
     "traceback": [
      "\u001b[31m---------------------------------------------------------------------------\u001b[39m",
      "\u001b[31mValueError\u001b[39m                                Traceback (most recent call last)",
      "\u001b[36mCell\u001b[39m\u001b[36m \u001b[39m\u001b[32mIn[15]\u001b[39m\u001b[32m, line 3\u001b[39m\n\u001b[32m      1\u001b[39m \u001b[38;5;66;03m#W2A3:\u001b[39;00m\n\u001b[32m      2\u001b[39m \u001b[38;5;66;03m#Nhap vao 2 so nguyen tu ban phim\u001b[39;00m\n\u001b[32m----> \u001b[39m\u001b[32m3\u001b[39m a = \u001b[38;5;28;43mint\u001b[39;49m\u001b[43m(\u001b[49m\u001b[38;5;28;43minput\u001b[39;49m\u001b[43m(\u001b[49m\u001b[33;43m\"\u001b[39;49m\u001b[33;43mNhap gia tri cho a: \u001b[39;49m\u001b[33;43m\"\u001b[39;49m\u001b[43m)\u001b[49m\u001b[43m)\u001b[49m\n\u001b[32m      4\u001b[39m b = \u001b[38;5;28mint\u001b[39m(\u001b[38;5;28minput\u001b[39m(\u001b[33m\"\u001b[39m\u001b[33mNhap gia tri cho b: \u001b[39m\u001b[33m\"\u001b[39m))\n\u001b[32m      6\u001b[39m \u001b[38;5;66;03m#In ra ket qua cua cac phep toan\u001b[39;00m\n",
      "\u001b[31mValueError\u001b[39m: invalid literal for int() with base 10: 'a'"
     ]
    }
   ],
   "source": [
    "#W2A3:\n",
    "#Nhap vao 2 so nguyen tu ban phim\n",
    "a = int(input(\"Nhap gia tri cho a: \"))\n",
    "b = int(input(\"Nhap gia tri cho b: \"))\n",
    "\n",
    "#In ra ket qua cua cac phep toan\n",
    "print(\"Tong cua a va b la : \", a + b)\n",
    "print(\"Hieu cua a va b la : \", a - b)\n",
    "print(\"Tich cua a va b la : \", a * b)\n",
    "print(\"Phan nguyen cua a va b la :\" , a // b)\n",
    "print(\"Phan du cua a va b la : \" , a % b)\n",
    "print(\"Ket cua phep chia thuc cua a va b la : \" , round((a/b),2))"
   ]
  },
  {
   "cell_type": "code",
   "execution_count": null,
   "id": "549588dd",
   "metadata": {},
   "outputs": [],
   "source": [
    "#W2A4:\n",
    "#Nhap cac dau diem\n",
    "scores = input().split()\n",
    "\n",
    "#Diem so chuyen ve dang so thuc\n",
    "a1 , b1 , c1 , a2 , b2 , a3 = map(float,scores)\n",
    "\n",
    "#Tinh diem trung binh theo cong thuc\n",
    "TB = ((a1 + b1 + c1) + (a2 + b2)*2 +a3*3 ) / 10\n",
    "\n",
    "#In ra diem trung binh 6 mon \n",
    "print(round(TB,1))"
   ]
  },
  {
   "cell_type": "code",
   "execution_count": null,
   "id": "2e0c136f",
   "metadata": {},
   "outputs": [],
   "source": [
    "#W2A5:\n",
    "# Nhap vao 2 so nguyen tu ban phim cach nhau boi dau cach nam tren mot dong\n",
    "a , b = map(int,input().split())\n",
    "\n",
    "# Phep tinh\n",
    "ket_qua = a ** b\n",
    " \n",
    "# In ra ket qua\n",
    "print(\"Ket qua phep tinh a mu b la : \",ket_qua)"
   ]
  },
  {
   "cell_type": "code",
   "execution_count": null,
   "id": "f43272e6",
   "metadata": {},
   "outputs": [],
   "source": [
    "#W2A6:\n",
    "#Nhap vao ki tu\n",
    "ki_tu = input()\n",
    "\n",
    "#Kiem tra xem ki tu nhap vao co nam trong khoang tu a den z khong\n",
    "if (ki_tu < 'a' or ki_tu > 'z') :\n",
    "    print(\"Ki tu khong thuoc khoang tu a den z\")\n",
    "#Kiem tra do dai cua ki  tu nhap vao\n",
    "elif ki_tu != 1 :\n",
    "    print(\"Do dai ki tu ko phu hop\")\n",
    "else :\n",
    "     #In ra ma unicode \n",
    "    ma_unicode = ord(ki_tu)\n",
    "    print(ma_unicode)\n",
    "\n",
    "    #In ra ki tu hoa\n",
    "    ma_ki_tu_hoa = ma_unicode - 32\n",
    "    print(chr(ma_ki_tu_hoa))"
   ]
  },
  {
   "cell_type": "code",
   "execution_count": null,
   "id": "d32e4d57",
   "metadata": {},
   "outputs": [],
   "source": [
    "#W2A7:\n",
    "#Tinh toan\n",
    "A = ((13 ** 2) * 3) + 5\n",
    "B = 13**2*3 + 5 \n",
    "\n",
    "#In ra ket qua\n",
    "print(A)\n",
    "print(B)"
   ]
  },
  {
   "cell_type": "code",
   "execution_count": null,
   "id": "c3a1998d",
   "metadata": {},
   "outputs": [],
   "source": [
    "#W2A8:\n",
    "#Nhap nhiet do celcius\n",
    "C = float(input(\"Nhap vao nhiet do Celcius : \"))\n",
    "\n",
    "#Chuyen sang gia tri nhiet do Fahrenhiet\n",
    "F = (9/5 * C) + 32\n",
    "\n",
    "#In ra man hinh nhiet do Fahrenhiet , lam tron den 2 chu so sau dau phay\n",
    "print(round(F,2))"
   ]
  },
  {
   "cell_type": "code",
   "execution_count": null,
   "id": "caf99135",
   "metadata": {},
   "outputs": [],
   "source": [
    "#W2A9:\n",
    "#Nhap vao gia cua chiec dong ho\n",
    "x = float(input(\"Gia tri cua chiec dong ho : \"))\n",
    "\n",
    "#Khai bao tien van chuyen\n",
    "ship = 10\n",
    "\n",
    "#Tinh thue xuat nhap canh\n",
    "thue_xuat_nhap_canh = x * (3/10)\n",
    "\n",
    "#Tinh thue VAT\n",
    "thue_VAT = x * (1/10)\n",
    "\n",
    "#Tinh tong so tien phai tra\n",
    "Tong_tien = x + ship + thue_VAT + thue_xuat_nhap_canh\n",
    "\n",
    "#In ra man hinh tong tien phai tra\n",
    "print(\"So tien phai tra khi mua chiec dong ho la : \",round(Tong_tien,2))"
   ]
  },
  {
   "cell_type": "code",
   "execution_count": null,
   "id": "ca04c069",
   "metadata": {},
   "outputs": [],
   "source": [
    "#W2A10:\n",
    "#Nhap ten 3 nguoi ban\n",
    "names = input(\"Nhap ten 3 nguoi ban :\")\n",
    "names_list = names.split()\n",
    "\n",
    "if len(names_list) != 3 :\n",
    "    print(\"Hay nhap day du ten 3 nguoi ban! \")\n",
    "else : \n",
    "    print(f\"Danh sach nguoc {names_list[2]},{names_list[1]},{names_list[0]}\")\n",
    "\n"
   ]
  },
  {
   "cell_type": "code",
   "execution_count": null,
   "id": "57dd187b",
   "metadata": {},
   "outputs": [],
   "source": [
    "#W2A11:\n",
    "#Nhap vao gio va phut\n",
    "hour = int(input(\"Nhap vao so gio :\"))\n",
    "minute = int(input(\"Nhap vao so phut : \"))\n",
    "\n",
    "#Chuyen doi sang giay va in ket qua ra man hinh\n",
    "print(f\"So giay la : {hour*3600 + minute*60} giay\")"
   ]
  },
  {
   "cell_type": "code",
   "execution_count": null,
   "id": "67a2b94e",
   "metadata": {},
   "outputs": [],
   "source": [
    "#W2A12:\n",
    "#Nhap do dai canh tu ban phim\n",
    "do_dai_canh = int(input(\"Hay nhap do dai canh :\"))\n",
    "\n",
    "#Tinh so mieng dan va in ra man hinh \n",
    "print(f\"So mieng dan can cho khoi rubik la : {(do_dai_canh**2)*6}\")"
   ]
  },
  {
   "cell_type": "code",
   "execution_count": null,
   "id": "09f471ac",
   "metadata": {},
   "outputs": [],
   "source": [
    "#W2A13:\n",
    "#Nhap vao 2 so nguyen duong\n",
    "a = int(input(\"Hay nhap gia tri cho a :\"))\n",
    "b = int(input(\"Hay nhap gia tri cho b: \"))\n",
    "\n",
    "#Tinh tich 2 so a,b va in ra man hinh hang don vi vua phep tinh \n",
    "tich = a*b\n",
    "hang_don_vi = tich%10\n",
    "\n",
    "print(\"Gia tri hang don vi : \",hang_don_vi)\n"
   ]
  },
  {
   "cell_type": "code",
   "execution_count": null,
   "id": "04220947",
   "metadata": {},
   "outputs": [],
   "source": [
    "#W2A14:\n",
    "#Nhap vao 2 gia tri tu ban phim\n",
    "a,b = map(int,input(\"Nhap du lieu cho 2 so :\").split())\n",
    "\n",
    "#Hoan doi gia tri\n",
    "a,b = b,a \n",
    "\n",
    "print(f\"Gia tri sau khi hoan doi : {a},{b}\")"
   ]
  },
  {
   "cell_type": "code",
   "execution_count": null,
   "id": "14ce477a",
   "metadata": {},
   "outputs": [],
   "source": [
    "#W2A15:\n",
    "#Nhap tu ban phim mot so nguyen duong\n",
    "n = int(input(\"Nhập một số nguyên dương n: \"))\n",
    "\n",
    "#Ap dung cong thuc tinh so sao thu n\n",
    "so_sao = 3 * n * n - 3 * n + 1\n",
    "\n",
    "#In ra kết quả\n",
    "print(f\"Số sao thứ {n} là: {so_sao}\")"
   ]
  },
  {
   "cell_type": "code",
   "execution_count": null,
   "id": "7e5ff0be",
   "metadata": {},
   "outputs": [],
   "source": [
    "#W2A16:\n",
    "seasons = [\"Spring\" , \"Summer\" , \"Autumn\" , \"Winter\"]\n",
    "for season in seasons :\n",
    "    print(season)\n",
    "    "
   ]
  },
  {
   "cell_type": "code",
   "execution_count": null,
   "id": "1a80e47f",
   "metadata": {},
   "outputs": [
    {
     "name": "stdout",
     "output_type": "stream",
     "text": [
      "*\n",
      "***\n",
      "*****\n"
     ]
    }
   ],
   "source": [
    "#W2A17:\n",
    "for i in range(1,6,2) :\n",
    "   print(\"*\" * i)\n",
    "    "
   ]
  },
  {
   "cell_type": "code",
   "execution_count": null,
   "id": "c1467016",
   "metadata": {},
   "outputs": [
    {
     "name": "stdout",
     "output_type": "stream",
     "text": [
      "### ##   ###  ###\n",
      " #  #  #  #    #\n",
      " #  #  #  #    #\n",
      " #  #  #  #    #\n",
      " #  ##    #    #\n"
     ]
    }
   ],
   "source": [
    "#W2A18:\n",
    "print(\"### ##   ###  ###\")\n",
    "print(\" #  #  #  #    #\")\n",
    "print(\" #  #  #  #    #\")\n",
    "print(\" #  #  #  #    #\")\n",
    "print(\" #  ##    #    #\")"
   ]
  },
  {
   "cell_type": "code",
   "execution_count": null,
   "id": "8113ab79",
   "metadata": {},
   "outputs": [
    {
     "name": "stdout",
     "output_type": "stream",
     "text": [
      "Monday\n",
      "Tuesday\n",
      "Wednesday\n",
      "Thursday\n",
      "Friday\n",
      "Saturday\n",
      "Sunday\n"
     ]
    }
   ],
   "source": [
    "#W2A19:\n",
    "#su dung vong lap for\n",
    "week = ['Monday','Tuesday','Wednesday','Thursday','Friday','Saturday','Sunday']\n",
    "for day in week :\n",
    "    print(day)"
   ]
  },
  {
   "cell_type": "code",
   "execution_count": null,
   "id": "06a58ad7",
   "metadata": {},
   "outputs": [
    {
     "name": "stdout",
     "output_type": "stream",
     "text": [
      "January\n",
      "Febuary\n",
      "March\n",
      "April\n",
      "May\n",
      "June\n",
      "July\n",
      "August\n",
      "September\n",
      "October\n",
      "November\n",
      "December\n"
     ]
    }
   ],
   "source": [
    "#W2A20:\n",
    "#Su dung vong lap for\n",
    "months = [\"January\",\"Febuary\",\"March\",\"April\",\"May\",\"June\",\"July\",\"August\",\"September\",\"October\",\"November\",\"December\"]\n",
    "for month in months :\n",
    "    print(month)"
   ]
  },
  {
   "cell_type": "code",
   "execution_count": null,
   "id": "efe04616",
   "metadata": {},
   "outputs": [
    {
     "name": "stdout",
     "output_type": "stream",
     "text": [
      "Hello,world!\n",
      "Hello,world!\n",
      "Hello,world!\n",
      "Hello,world!\n",
      "Hello,world!\n",
      "Hello,world!\n",
      "Hello,world!\n",
      "Hello,world!\n",
      "Hello,world!\n",
      "Hello,world!\n"
     ]
    }
   ],
   "source": [
    "#W2A21:\n",
    "#Su dung vong lap de lap lai viec viet 10 lan\n",
    "for i in range(10) :\n",
    "    print(\"Hello,world!\")"
   ]
  },
  {
   "cell_type": "code",
   "execution_count": null,
   "id": "63cf8b8e",
   "metadata": {},
   "outputs": [
    {
     "name": "stdout",
     "output_type": "stream",
     "text": [
      "Hello,World!\n",
      "Hello,World!\n",
      "Hello,World!\n",
      "Hello,World!\n",
      "Hello,World!\n",
      "Hello,World!\n",
      "Hello,World!\n",
      "Hello,World!\n",
      "Hello,World!\n",
      "Hello,World!\n",
      "\n"
     ]
    }
   ],
   "source": [
    "#W2A22:\n",
    "print(\"Hello,World!\\n\" *10)"
   ]
  }
 ],
 "metadata": {
  "kernelspec": {
   "display_name": "Python 3",
   "language": "python",
   "name": "python3"
  },
  "language_info": {
   "codemirror_mode": {
    "name": "ipython",
    "version": 3
   },
   "file_extension": ".py",
   "mimetype": "text/x-python",
   "name": "python",
   "nbconvert_exporter": "python",
   "pygments_lexer": "ipython3",
   "version": "3.13.7"
  }
 },
 "nbformat": 4,
 "nbformat_minor": 5
}
