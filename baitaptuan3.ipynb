{
 "cells": [
  {
   "cell_type": "code",
   "execution_count": null,
   "id": "52b50f67",
   "metadata": {},
   "outputs": [],
   "source": [
    "#BT1 :Viết một chương trình nhập vào một số nguyên n và in ra các chữ số đảo ngược nhau.\n",
    "a =input()\n",
    "print(a[::-1])"
   ]
  },
  {
   "cell_type": "code",
   "execution_count": null,
   "id": "d53a25e7",
   "metadata": {},
   "outputs": [],
   "source": [
    "#Sử dụng phép toán XOR bitwise để hoán đổi giá trị của hai biến.\n",
    "a,b = map(int,input().split())\n",
    "a = a ^ b\n",
    "b = a ^ b\n",
    "a = a ^ b\n",
    "print(a,b)"
   ]
  },
  {
   "cell_type": "code",
   "execution_count": null,
   "id": "d70c90a6",
   "metadata": {},
   "outputs": [],
   "source": [
    "#Kiểm tra xem một số có phải là lũy thừa của 2 hay không\n",
    "n = int(input())\n",
    "if n & (n-1) == 0 :\n",
    "    print(\"True\")\n",
    "else :\n",
    "    print(\"False\")\n",
    "\n"
   ]
  },
  {
   "cell_type": "code",
   "execution_count": null,
   "id": "1c72b4ba",
   "metadata": {},
   "outputs": [],
   "source": [
    "# viêt chương trình chia một số m cho n, kết quả thu được làm tròn xuống\n",
    "m,n = map(float,input().split())\n",
    "res = m // n\n",
    "print(int(res))\n"
   ]
  },
  {
   "cell_type": "code",
   "execution_count": null,
   "id": "9c701998",
   "metadata": {},
   "outputs": [],
   "source": [
    "# viêt chương trình chia một số m cho n, kết quả thu được làm tròn lên\n",
    "import math\n",
    "m,n = map(float,input().split())\n",
    "res = math.ceil(m/n)\n",
    "print(res)"
   ]
  },
  {
   "cell_type": "code",
   "execution_count": null,
   "id": "e6eff621",
   "metadata": {},
   "outputs": [],
   "source": [
    "#Even and Odd\n",
    "x = int(input())\n",
    "if x > 0 :\n",
    "    if x%2 == 0 :\n",
    "        print(\"Even\")\n",
    "    else :\n",
    "        print(\"Odd\")\n",
    "\n",
    "\n"
   ]
  },
  {
   "cell_type": "code",
   "execution_count": null,
   "id": "af723007",
   "metadata": {},
   "outputs": [],
   "source": [
    "#Check negative numbers\n",
    "a = int(input())\n",
    "b = int(input())\n",
    "if a < 0 and b < 0 :\n",
    "    print(\"Yes\")\n",
    "else :\n",
    "    print(\"No\")\n"
   ]
  },
  {
   "cell_type": "code",
   "execution_count": null,
   "id": "591c0354",
   "metadata": {},
   "outputs": [],
   "source": [
    "#Longer string\n",
    "a = input()\n",
    "b = input()\n",
    "\n",
    "if len(a) > len(b) :\n",
    "    print(\"True\")\n",
    "else :\n",
    "    print(\"False\")\n",
    "    "
   ]
  },
  {
   "cell_type": "code",
   "execution_count": null,
   "id": "b69f40c0",
   "metadata": {},
   "outputs": [],
   "source": [
    "#[Triangle]\n",
    "a = int(input(\"Nhập a: \"))\n",
    "b = int(input(\"Nhập b: \"))\n",
    "c = int(input(\"Nhập c: \"))\n",
    "\n",
    "if a > 0 and b > 0 and c > 0 and (a + b > c) and (a + c > b) and (b + c > a):\n",
    "    print(\"Yes\")\n",
    "else:\n",
    "    print(\"No\")\n"
   ]
  },
  {
   "cell_type": "code",
   "execution_count": null,
   "id": "86ba8d02",
   "metadata": {},
   "outputs": [],
   "source": [
    "#Largest number\n",
    "a = int(input())\n",
    "b = int(input())\n",
    "c = int(input())\n",
    "d = int(input())\n",
    "\n",
    "max_val = a\n",
    "if b > max_val:\n",
    "    max_val = b\n",
    "if c > max_val:\n",
    "    max_val = c\n",
    "if d > max_val:\n",
    "    max_val = d\n",
    "\n",
    "print(max_val)\n",
    "\n",
    "\n",
    "\n"
   ]
  },
  {
   "cell_type": "code",
   "execution_count": null,
   "id": "f8e4f58b",
   "metadata": {},
   "outputs": [],
   "source": [
    "#[Phân loại tam giác]\n",
    "a,b,c = map(int,input().split())\n",
    "if a > 0 and b > 0 and c > 0 and (a + b > c) and (a + c > b) and (b + c > a):\n",
    "    if a == b == c :\n",
    "        print(\"Tam giác đều\")\n",
    "    elif (a == b and b != c) or (a == c and b != c) or (c == b and b != a) :\n",
    "        print(\"Tam giác cân\")\n",
    "    else :\n",
    "        print(\"Tam giác thường\")       \n",
    "else:\n",
    "    print(\"Không phải tam giác\")\")"
   ]
  },
  {
   "cell_type": "code",
   "execution_count": null,
   "id": "e8bec507",
   "metadata": {},
   "outputs": [],
   "source": [
    "#Kiem tra nam nhuan\n",
    "year = int(input())\n",
    "if year%400 == 0 or (year%4 == 0 and year%100 != 0) :\n",
    "    print(\"Yes\")\n",
    "else :\n",
    "    print(\"No\")   "
   ]
  },
  {
   "cell_type": "code",
   "execution_count": null,
   "id": "18cf556f",
   "metadata": {},
   "outputs": [],
   "source": [
    "#tinh tien dien\n",
    "kwh = int(input())\n",
    "\n",
    "if kwh <= 0:\n",
    "    tien_dien = 0\n",
    "elif kwh <= 50:\n",
    "    tien_dien = kwh * 1500\n",
    "elif kwh <= 100:\n",
    "    tien_dien = 50 * 1500 + (kwh - 50) * 2000\n",
    "else:\n",
    "    tien_dien = 50 * 1500 + 50 * 2000 + (kwh - 100) * 3000\n",
    "\n",
    "print(tien_dien)\n"
   ]
  },
  {
   "cell_type": "code",
   "execution_count": null,
   "id": "44e30e79",
   "metadata": {},
   "outputs": [],
   "source": [
    "#Giai phương trinh\n",
    "a = float(input())\n",
    "b = float(input())\n",
    "\n",
    "if a == 0 and b != 0 :\n",
    "    print(\"Vô nghiệm\")\n",
    "elif a == 0 and b == 0 :\n",
    "    print(\"Vô số nghiệm\")\n",
    "else :\n",
    "    print(round((-b)/a,2))\n"
   ]
  },
  {
   "cell_type": "code",
   "execution_count": null,
   "id": "890f5efa",
   "metadata": {},
   "outputs": [],
   "source": [
    "#Phan loai hoc tap\n",
    "score = float(input())\n",
    "xep_loai = [\"Gioi\",\"Kha\",\"Trung Binh\", \"Yeu\"]\n",
    "if  0 <= score <= 10 :\n",
    "    if score >= 8 :\n",
    "        print(xep_loai[0])\n",
    "    elif  6.5 <= score < 8 :\n",
    "        print(xep_loai[1])\n",
    "    elif 5 <= score < 6.5 :\n",
    "        print(xep_loai[2])\n",
    "    else :\n",
    "        print(xep_loai[3])\n"
   ]
  },
  {
   "cell_type": "code",
   "execution_count": null,
   "id": "72c58e1c",
   "metadata": {},
   "outputs": [],
   "source": [
    "#[Rounding]\n",
    "#Nhập vào một số thực: in ra kết quả làm tròn lên ,tròn xuống, làm tròn tới số nguyên gần nhất (không được\n",
    "#sử dụng hàm sẵn có của pyton). Các kết quả cách nhau một dấu cách\n",
    "\n",
    "a=float(input())\n",
    "if a>0:\n",
    "    b=int(a)\n",
    "    c=b+1\n",
    "else:\n",
    "    if a==int(a):\n",
    "        b=a\n",
    "        c=a\n",
    "    else:\n",
    "        b=int(a)-1\n",
    "        c=b+1\n",
    "          \n",
    "if abs(a-b) >=0.5:\n",
    "    d=c\n",
    "elif abs(a-b) <0.5:\n",
    "    d=b\n",
    "print(c,b,d)"
   ]
  }
 ],
 "metadata": {
  "kernelspec": {
   "display_name": "Python 3",
   "language": "python",
   "name": "python3"
  },
  "language_info": {
   "codemirror_mode": {
    "name": "ipython",
    "version": 3
   },
   "file_extension": ".py",
   "mimetype": "text/x-python",
   "name": "python",
   "nbconvert_exporter": "python",
   "pygments_lexer": "ipython3",
   "version": "3.13.7"
  }
 },
 "nbformat": 4,
 "nbformat_minor": 5
}
