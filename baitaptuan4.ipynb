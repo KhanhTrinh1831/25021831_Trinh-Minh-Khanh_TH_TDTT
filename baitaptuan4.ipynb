{
 "cells": [
  {
   "cell_type": "code",
   "execution_count": 6,
   "id": "e0807eb4",
   "metadata": {},
   "outputs": [
    {
     "name": "stdout",
     "output_type": "stream",
     "text": [
      "10\n"
     ]
    }
   ],
   "source": [
    "#W4A1\n",
    "n = int(input())\n",
    "s = 0\n",
    "while n != 0 :\n",
    "    s += n\n",
    "    n -= 1\n",
    "print(s)"
   ]
  },
  {
   "cell_type": "code",
   "execution_count": null,
   "id": "5f6e8a4a",
   "metadata": {},
   "outputs": [
    {
     "name": "stdout",
     "output_type": "stream",
     "text": [
      "True\n"
     ]
    }
   ],
   "source": [
    "\n",
    "#W4A2 \n",
    "def check(k):\n",
    "    if k < 2:\n",
    "        return False\n",
    "    for i in range(2, int(k**0.5) + 1):\n",
    "        if k % i == 0:\n",
    "            return False\n",
    "    return True\n",
    "n = int(input())\n",
    "if n > 0:\n",
    "    if check(n):\n",
    "        print(\"True\")   \n",
    "    else:\n",
    "        print(\"False\")  \n",
    "else:\n",
    "    print(\"Hay nhap so nguyen duong\")\n"
   ]
  },
  {
   "cell_type": "code",
   "execution_count": 23,
   "id": "05120c98",
   "metadata": {},
   "outputs": [
    {
     "name": "stdout",
     "output_type": "stream",
     "text": [
      "720\n"
     ]
    }
   ],
   "source": [
    "#W4A3\n",
    "n = int(input())\n",
    "giai_thua = 1\n",
    "while n != 0 :\n",
    "    giai_thua *= n\n",
    "    n -= 1 \n",
    "print(giai_thua)\n"
   ]
  },
  {
   "cell_type": "code",
   "execution_count": null,
   "id": "0ab60051",
   "metadata": {},
   "outputs": [
    {
     "name": "stdout",
     "output_type": "stream",
     "text": [
      "6\n"
     ]
    }
   ],
   "source": [
    "#W4A4\n",
    "n = int(input())\n",
    "n = abs(n)\n",
    "cnt = 0\n",
    "if n == 0 :\n",
    "    print(1)\n",
    "else:\n",
    "    while n != 0 :\n",
    "        cnt += 1\n",
    "        n = n // 10\n",
    "    print(cnt)\n"
   ]
  },
  {
   "cell_type": "code",
   "execution_count": null,
   "id": "435578b0",
   "metadata": {},
   "outputs": [
    {
     "name": "stdout",
     "output_type": "stream",
     "text": [
      "I've found the meaning of life!\n"
     ]
    }
   ],
   "source": [
    "\n",
    "#W4A5\n",
    "n = int(input())\n",
    "while n != 0 :\n",
    "    a = int(input())\n",
    "    n -= 1\n",
    "    if a == 42 :\n",
    "        print(\"I've found the meaning of life!\")\n",
    "        break\n",
    "if n == 0 :\n",
    "    print(\"It's a joke !\")"
   ]
  },
  {
   "cell_type": "code",
   "execution_count": null,
   "id": "e42c53be",
   "metadata": {},
   "outputs": [],
   "source": [
    "#W4A6\n",
    "a , b = map(int,input().split())\n",
    "snt = [True] * ( b + 5 )\n",
    "snt[0] = snt[1] = False\n",
    "for i in range (2 ,int(b ** 0.5) + 1) :\n",
    "    if snt[i] :\n",
    "        for j in range(i * i , b + 1 , i ) :\n",
    "            snt[j] = False\n",
    "\n",
    "kq = [i for i in range(a,b+1) if snt[i]]\n",
    "print(*kq)"
   ]
  },
  {
   "cell_type": "code",
   "execution_count": null,
   "id": "62d08d43",
   "metadata": {},
   "outputs": [
    {
     "name": "stdout",
     "output_type": "stream",
     "text": [
      "29\n"
     ]
    }
   ],
   "source": [
    "#W4A7\n",
    "def check(k):\n",
    "    if k < 2:\n",
    "        return False\n",
    "    for i in range(2, int(k**0.5) + 1):\n",
    "        if k % i == 0:\n",
    "            return False\n",
    "    return True\n",
    "n = int(input())\n",
    "Max = -1\n",
    "for i in range(2,n + 1) :\n",
    "    if (n % i == 0 and check(i) == True) :\n",
    "        if Max < i :\n",
    "            Max = i \n",
    "print(Max)"
   ]
  },
  {
   "cell_type": "code",
   "execution_count": null,
   "id": "30ce99c3",
   "metadata": {},
   "outputs": [
    {
     "name": "stdout",
     "output_type": "stream",
     "text": [
      "1 121\n"
     ]
    }
   ],
   "source": [
    "#W4A8 \n",
    "def palindrome(k) :\n",
    "    if k[::-1] == k :\n",
    "        return True\n",
    "    return False\n",
    "n = input()\n",
    "cnt = 0\n",
    "while (palindrome(n) == False) :\n",
    "    cnt += 1\n",
    "    n = str(int(n) + int(n[::-1]))\n",
    "print(cnt,n )"
   ]
  },
  {
   "cell_type": "code",
   "execution_count": null,
   "id": "13c2e3a1",
   "metadata": {},
   "outputs": [
    {
     "name": "stdout",
     "output_type": "stream",
     "text": [
      "1 4 9 16 25 36 49 "
     ]
    }
   ],
   "source": [
    "#W4A9\n",
    "def check(n) :\n",
    "    ls = []\n",
    "    while (n != 0) :\n",
    "        k = n % 10\n",
    "        ls.append(k)\n",
    "        n //= 10\n",
    "    if (len(set(ls)) == len(ls)):\n",
    "        return True\n",
    "    return False\n",
    "\n",
    "a = int(input())\n",
    "for i in range(1 , int(a**0.5) +1) :\n",
    "    if (check(i*i) == True) :\n",
    "        print( i*i , end = \" \" )"
   ]
  },
  {
   "cell_type": "code",
   "execution_count": null,
   "id": "88635db5",
   "metadata": {},
   "outputs": [],
   "source": [
    "#W4A9\n",
    "def check(n) :\n",
    "    ls = []\n",
    "    while (n != 0) :\n",
    "        k = n % 10\n",
    "        if k in ls:\n",
    "            return False\n",
    "        ls.append(k)\n",
    "        n //= 10\n",
    "    return True\n",
    "\n",
    "a = int(input())\n",
    "for i in range(1 , int(a**0.5) +1) :\n",
    "    if (check(i*i) == True) :\n",
    "        print( i*i , end = \" \" )"
   ]
  },
  {
   "cell_type": "code",
   "execution_count": null,
   "id": "9daa36f2",
   "metadata": {},
   "outputs": [
    {
     "name": "stdout",
     "output_type": "stream",
     "text": [
      "9 20\n"
     ]
    }
   ],
   "source": [
    "#W4A10\n",
    "n = int(input())\n",
    "Max = -1\n",
    "for i in range(1, n + 1 ) :\n",
    "    cnt = 1\n",
    "    temp = i\n",
    "    while i != 1 :\n",
    "        if i % 2 == 0 :\n",
    "            i //= 2 \n",
    "        else :\n",
    "            i = 3*i +1\n",
    "        cnt += 1\n",
    "    if Max < cnt :\n",
    "        Max , ans = cnt , temp\n",
    "print(ans,Max)"
   ]
  },
  {
   "cell_type": "code",
   "execution_count": null,
   "id": "5c4b51eb",
   "metadata": {},
   "outputs": [
    {
     "name": "stdout",
     "output_type": "stream",
     "text": [
      "0\n"
     ]
    }
   ],
   "source": [
    "#W4A11\n",
    "n = int(input())\n",
    "cnt = 0\n",
    "for i in range(2, n + 1) :\n",
    "    if (n % i == 0 and i % 2 == 0) :\n",
    "        cnt += 1\n",
    "print(cnt)"
   ]
  },
  {
   "cell_type": "code",
   "execution_count": 19,
   "id": "c8514001",
   "metadata": {},
   "outputs": [
    {
     "name": "stdout",
     "output_type": "stream",
     "text": [
      "1087\n"
     ]
    }
   ],
   "source": [
    "#W4A12\n",
    "X , n = map(int,input().split())\n",
    "print(int(X*((1+0.007)**n)))"
   ]
  },
  {
   "cell_type": "code",
   "execution_count": null,
   "id": "7d423863",
   "metadata": {},
   "outputs": [
    {
     "name": "stdout",
     "output_type": "stream",
     "text": [
      "true\n"
     ]
    }
   ],
   "source": [
    "#W4A13\n",
    "n1 , n2 = map(int,input().split())\n",
    "l1 , l2 = [] , []\n",
    "tong1,tong2 = 0,0\n",
    "for i in range(1, n1 ) :\n",
    "    if (n1 % i == 0) :\n",
    "        l1.append(i)\n",
    "for k in range( 1, n2 ) :\n",
    "    if (n2 % k == 0) :\n",
    "        l2.append(k)\n",
    "for j in l1 :\n",
    "    tong1 += j\n",
    "for j in l2 :\n",
    "    tong2 += j\n",
    "if (tong1 == n2 and tong2 == n1 ) :\n",
    "    print(\"true\")\n",
    "else :\n",
    "    print(\"false\")"
   ]
  },
  {
   "cell_type": "code",
   "execution_count": null,
   "id": "215383de",
   "metadata": {},
   "outputs": [
    {
     "name": "stdout",
     "output_type": "stream",
     "text": [
      "1\n"
     ]
    }
   ],
   "source": [
    "#W4A14\n",
    "def gcd(a,b) :\n",
    "    if b % a == 0 :\n",
    "        return a\n",
    "    return gcd(b % a , a)\n",
    "m , n = map(int,input().split())\n",
    "print(gcd(m,n))"
   ]
  },
  {
   "cell_type": "code",
   "execution_count": null,
   "id": "e35d73b7",
   "metadata": {},
   "outputs": [
    {
     "name": "stdout",
     "output_type": "stream",
     "text": [
      "119 1\n"
     ]
    }
   ],
   "source": [
    "#W4A15 \n",
    "tong_con , tong_chan = map(int,input().split())\n",
    "if tong_chan > 0 and tong_chan > 0 and tong_con < tong_chan and tong_chan % 2 == 0 :\n",
    "    cho = (tong_chan - 2*tong_con) * 0.5\n",
    "    ga = tong_con - cho\n",
    "    print(int(ga),int(cho))\n",
    "else :\n",
    "    print(\"invalid\")"
   ]
  },
  {
   "cell_type": "code",
   "execution_count": null,
   "id": "80536755",
   "metadata": {},
   "outputs": [
    {
     "name": "stdout",
     "output_type": "stream",
     "text": [
      "6 12 18 24 30 36 42 48 54 60 66 72 78 84 90 96 "
     ]
    }
   ],
   "source": [
    "#W4A16\n",
    "for i in range(6,100,6) :  \n",
    "    print(i , end = \" \")   "
   ]
  },
  {
   "cell_type": "code",
   "execution_count": 79,
   "id": "84bae95a",
   "metadata": {},
   "outputs": [],
   "source": [
    "#W4A17\n",
    "a = int(input())\n",
    "for i in range(1,11) :\n",
    "    print(f\"{a} x {i} = {a*i}\")"
   ]
  },
  {
   "cell_type": "code",
   "execution_count": 48,
   "id": "daa9762d",
   "metadata": {},
   "outputs": [
    {
     "name": "stdout",
     "output_type": "stream",
     "text": [
      "1 2 4 5 10 20 "
     ]
    }
   ],
   "source": [
    "#W4A18\n",
    "a , b = map(int,input().split())\n",
    "for i in range(1,a+1) :\n",
    "    if a % i == 0 and b % i == 0 :\n",
    "        print(i , end = \" \")\n"
   ]
  },
  {
   "cell_type": "code",
   "execution_count": null,
   "id": "bdacc120",
   "metadata": {},
   "outputs": [
    {
     "name": "stdout",
     "output_type": "stream",
     "text": [
      "2 4 6 8 "
     ]
    }
   ],
   "source": [
    "#W4A19\n",
    "n = int(input())\n",
    "for i in range(2,n+1) :\n",
    "    if ( i % 2 == 0 ) :\n",
    "        print(i, end = \" \")  "
   ]
  },
  {
   "cell_type": "code",
   "execution_count": null,
   "id": "423d0d88",
   "metadata": {},
   "outputs": [
    {
     "name": "stdout",
     "output_type": "stream",
     "text": [
      "Yes\n"
     ]
    }
   ],
   "source": [
    "#W4A20\n",
    "n = int(input())\n",
    "if n & (n - 1) == 0 :\n",
    "    print(\"Yes\")\n",
    "else :\n",
    "    print(\"No\")"
   ]
  },
  {
   "cell_type": "code",
   "execution_count": 67,
   "id": "75b87618",
   "metadata": {},
   "outputs": [
    {
     "name": "stdout",
     "output_type": "stream",
     "text": [
      "15\n"
     ]
    }
   ],
   "source": [
    "#W4A21\n",
    "n = int(input())\n",
    "cnt = 0\n",
    "while n != 0 :\n",
    "    k = n % 10\n",
    "    cnt += k\n",
    "    n //= 10\n",
    "print(cnt)\n"
   ]
  },
  {
   "cell_type": "code",
   "execution_count": 73,
   "id": "acb335d4",
   "metadata": {},
   "outputs": [
    {
     "name": "stdout",
     "output_type": "stream",
     "text": [
      "0 2\n"
     ]
    }
   ],
   "source": [
    "#W4A22\n",
    "n = int(input())\n",
    "n = abs(n)\n",
    "even, odd = 0 , 0\n",
    "while n != 0 :\n",
    "    k = n % 10 \n",
    "    if k % 2 == 0 :\n",
    "        even += 1\n",
    "    else :\n",
    "        odd += 1\n",
    "    n //= 10\n",
    "print(even,odd)"
   ]
  },
  {
   "cell_type": "code",
   "execution_count": null,
   "id": "9bbbe48f",
   "metadata": {},
   "outputs": [
    {
     "name": "stdout",
     "output_type": "stream",
     "text": [
      "44\n"
     ]
    }
   ],
   "source": [
    "#W4A23\n",
    "n = int(input())\n",
    "s = 0\n",
    "k = 0\n",
    "while s < n :\n",
    "    k += 1\n",
    "    s += k \n",
    "print(k - 1)\n"
   ]
  },
  {
   "cell_type": "code",
   "execution_count": null,
   "id": "860bf13d",
   "metadata": {},
   "outputs": [
    {
     "name": "stdout",
     "output_type": "stream",
     "text": [
      "83\n"
     ]
    }
   ],
   "source": [
    "#W4A24\n",
    "A = int(input())\n",
    "s = 0\n",
    "n = 0\n",
    "while s <= A :\n",
    "    n = n + 1\n",
    "    s = s + 1/n\n",
    "print(n)"
   ]
  },
  {
   "cell_type": "code",
   "execution_count": null,
   "id": "0016766f",
   "metadata": {},
   "outputs": [
    {
     "name": "stdout",
     "output_type": "stream",
     "text": [
      "3 1\n"
     ]
    }
   ],
   "source": [
    "#W4A25 \n",
    "ls = []\n",
    "Max = -1\n",
    "Min = 1000000\n",
    "while True :\n",
    "    n = int(input())\n",
    "    if n == -1 :\n",
    "        break\n",
    "    ls.append(n)\n",
    "for i in ls :\n",
    "    if Max < i  :\n",
    "        Max = i \n",
    "    if Min > i :\n",
    "        Min = i\n",
    "print(Max , Min)"
   ]
  },
  {
   "cell_type": "code",
   "execution_count": null,
   "id": "5ddfb932",
   "metadata": {},
   "outputs": [
    {
     "name": "stdout",
     "output_type": "stream",
     "text": [
      "75025\n"
     ]
    }
   ],
   "source": [
    "#W4A26\n",
    "def fibonacci(n) :\n",
    "    if n == 1 or n == 2 :\n",
    "        return 1\n",
    "    return fibonacci(n- 1) + fibonacci(n - 2)\n",
    "Max = -1 \n",
    "a = int(input())\n",
    "for i in range(1 , a) :\n",
    "    if fibonacci(i) < a :\n",
    "        ls.append(fibonacci(i))\n",
    "        if Max < fibonacci(i) :\n",
    "            Max = fibonacci(i)\n",
    "print(Max)\n",
    "  "
   ]
  },
  {
   "cell_type": "code",
   "execution_count": null,
   "id": "36c232ab",
   "metadata": {},
   "outputs": [],
   "source": [
    "#W4A27\n",
    "s, f, ans = input(), False, 0\n",
    "# f chi trang thai cua ki tu co dang thuoc trong tu nao khong\n",
    "for i in s:\n",
    "    if i != ' ' and f == False:\n",
    "        ans += 1\n",
    "        f = True\n",
    "    elif i == ' ':\n",
    "        f = False\n",
    "print(ans)"
   ]
  },
  {
   "cell_type": "code",
   "execution_count": 67,
   "id": "1aea4084",
   "metadata": {},
   "outputs": [
    {
     "name": "stdout",
     "output_type": "stream",
     "text": [
      "trinh\n"
     ]
    }
   ],
   "source": [
    "#W4A28\n",
    "s, f, ki_tu = input(), False, \"\"\n",
    "# f chi trang thai cua ki tu co dang thuoc trong tu nao khong\n",
    "for i in s :\n",
    "    if i != ' ' :\n",
    "        f = True\n",
    "        ki_tu += i\n",
    "    elif i == ' ' and f == True :\n",
    "        f = False\n",
    "        break\n",
    "print(ki_tu)\n",
    "\n",
    "        \n",
    "\n"
   ]
  },
  {
   "cell_type": "code",
   "execution_count": null,
   "id": "e8d701f9",
   "metadata": {},
   "outputs": [
    {
     "name": "stdout",
     "output_type": "stream",
     "text": [
      "30\n"
     ]
    }
   ],
   "source": [
    "#W4A29\n",
    "a,b,c = map(int,input().split(\",\"))\n",
    "print(a + b + c)\n"
   ]
  },
  {
   "cell_type": "code",
   "execution_count": 22,
   "id": "249d44b1",
   "metadata": {},
   "outputs": [
    {
     "name": "stdout",
     "output_type": "stream",
     "text": [
      "3 0 0\n"
     ]
    }
   ],
   "source": [
    "#W4A30\n",
    "chuoi = input()\n",
    "hoa = 0\n",
    "thuong = 0\n",
    "so = 0\n",
    "for i in chuoi :\n",
    "    if ('a' <= i <= 'z') :\n",
    "        thuong += 1\n",
    "    elif ('A' <= i <= 'Z') :\n",
    "        hoa += 1\n",
    "    elif ('0' <= i <= '9') :\n",
    "        so += 1\n",
    "print(so,hoa,thuong)"
   ]
  },
  {
   "cell_type": "code",
   "execution_count": null,
   "id": "3cbad914",
   "metadata": {},
   "outputs": [
    {
     "name": "stdout",
     "output_type": "stream",
     "text": [
      "6\n"
     ]
    }
   ],
   "source": [
    "#W4A31\n",
    "chuoi = input()\n",
    "s = 0\n",
    "for i in chuoi :\n",
    "    if ('0' <= i <= '9') :\n",
    "        s += int(i)\n",
    "print(s)"
   ]
  },
  {
   "cell_type": "code",
   "execution_count": 26,
   "id": "5fbfb7a6",
   "metadata": {},
   "outputs": [
    {
     "name": "stdout",
     "output_type": "stream",
     "text": [
      "Pass yeu\n"
     ]
    }
   ],
   "source": [
    "#W4A32 \n",
    "chuoi = input()\n",
    "hoa , thuong ,so,ktdb= 0 ,0 ,0 ,0\n",
    "for i in chuoi :\n",
    "    if ('a' <= i <= 'z') :\n",
    "        thuong += 1\n",
    "    elif ('A' <= i <= 'Z') :\n",
    "        hoa += 1\n",
    "    elif ('0' <= i <= '9') :\n",
    "        so += 1\n",
    "    else :\n",
    "        ktdb += 1\n",
    "\n",
    "if len(chuoi) >= 6 and hoa >= 1 and thuong >= 1 and so >= 1 and ktdb >= 1 :\n",
    "    print(\"Pass manh\")\n",
    "else :\n",
    "    print(\"Pass yeu\")\n",
    "\n",
    "\n"
   ]
  },
  {
   "cell_type": "code",
   "execution_count": null,
   "id": "fcabb51b",
   "metadata": {},
   "outputs": [
    {
     "name": "stdout",
     "output_type": "stream",
     "text": [
      "1.234.567\n"
     ]
    }
   ],
   "source": [
    "#W4A33\n",
    "chuoi = input()\n",
    "cnt , ans = 0 , \"\"\n",
    "chuoi = chuoi[::-1]\n",
    "for i in range(len(chuoi)) : \n",
    "    ans += chuoi[i]\n",
    "    cnt += 1\n",
    "    if (cnt % 3 == 0) :\n",
    "        if (i + 1 == len(chuoi)) :\n",
    "            break\n",
    "        ans += \".\"\n",
    "print(ans[::-1])"
   ]
  },
  {
   "cell_type": "code",
   "execution_count": null,
   "id": "8be8e1d8",
   "metadata": {},
   "outputs": [
    {
     "name": "stdout",
     "output_type": "stream",
     "text": [
      "xihao"
     ]
    }
   ],
   "source": [
    "#W4A34\n",
    "a, b, j = input(), input(), 0\n",
    "for i in range(len(a)):\n",
    "    start = i\n",
    "    end = i + len(b) - 1\n",
    "    if i <= len(a) - len(b) and a[start: end + 1] == b:\n",
    "        j = i + len(b)\n",
    "    if i >= j:\n",
    "        print(a[i], end='')"
   ]
  }
 ],
 "metadata": {
  "kernelspec": {
   "display_name": "Python 3",
   "language": "python",
   "name": "python3"
  },
  "language_info": {
   "codemirror_mode": {
    "name": "ipython",
    "version": 3
   },
   "file_extension": ".py",
   "mimetype": "text/x-python",
   "name": "python",
   "nbconvert_exporter": "python",
   "pygments_lexer": "ipython3",
   "version": "3.9.13"
  }
 },
 "nbformat": 4,
 "nbformat_minor": 5
}
